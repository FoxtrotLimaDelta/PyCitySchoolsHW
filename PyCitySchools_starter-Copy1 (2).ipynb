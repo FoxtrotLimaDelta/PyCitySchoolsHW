{
 "cells": [
  {
   "cell_type": "markdown",
   "metadata": {},
   "source": [
    "### Note\n",
    "* Instructions have been included for each segment. You do not have to follow them exactly, but they are included to help you think through the steps."
   ]
  },
  {
   "cell_type": "code",
   "execution_count": 176,
   "metadata": {
    "scrolled": true
   },
   "outputs": [
    {
     "data": {
      "text/html": [
       "<div>\n",
       "<style scoped>\n",
       "    .dataframe tbody tr th:only-of-type {\n",
       "        vertical-align: middle;\n",
       "    }\n",
       "\n",
       "    .dataframe tbody tr th {\n",
       "        vertical-align: top;\n",
       "    }\n",
       "\n",
       "    .dataframe thead th {\n",
       "        text-align: right;\n",
       "    }\n",
       "</style>\n",
       "<table border=\"1\" class=\"dataframe\">\n",
       "  <thead>\n",
       "    <tr style=\"text-align: right;\">\n",
       "      <th></th>\n",
       "      <th>Student ID</th>\n",
       "      <th>student_name</th>\n",
       "      <th>gender</th>\n",
       "      <th>grade</th>\n",
       "      <th>school_name</th>\n",
       "      <th>reading_score</th>\n",
       "      <th>math_score</th>\n",
       "      <th>School ID</th>\n",
       "      <th>type</th>\n",
       "      <th>size</th>\n",
       "      <th>budget</th>\n",
       "    </tr>\n",
       "  </thead>\n",
       "  <tbody>\n",
       "    <tr>\n",
       "      <th>0</th>\n",
       "      <td>0</td>\n",
       "      <td>Paul Bradley</td>\n",
       "      <td>M</td>\n",
       "      <td>9th</td>\n",
       "      <td>Huang High School</td>\n",
       "      <td>66</td>\n",
       "      <td>79</td>\n",
       "      <td>0</td>\n",
       "      <td>District</td>\n",
       "      <td>2917</td>\n",
       "      <td>1910635</td>\n",
       "    </tr>\n",
       "    <tr>\n",
       "      <th>1</th>\n",
       "      <td>1</td>\n",
       "      <td>Victor Smith</td>\n",
       "      <td>M</td>\n",
       "      <td>12th</td>\n",
       "      <td>Huang High School</td>\n",
       "      <td>94</td>\n",
       "      <td>61</td>\n",
       "      <td>0</td>\n",
       "      <td>District</td>\n",
       "      <td>2917</td>\n",
       "      <td>1910635</td>\n",
       "    </tr>\n",
       "    <tr>\n",
       "      <th>2</th>\n",
       "      <td>2</td>\n",
       "      <td>Kevin Rodriguez</td>\n",
       "      <td>M</td>\n",
       "      <td>12th</td>\n",
       "      <td>Huang High School</td>\n",
       "      <td>90</td>\n",
       "      <td>60</td>\n",
       "      <td>0</td>\n",
       "      <td>District</td>\n",
       "      <td>2917</td>\n",
       "      <td>1910635</td>\n",
       "    </tr>\n",
       "    <tr>\n",
       "      <th>3</th>\n",
       "      <td>3</td>\n",
       "      <td>Dr. Richard Scott</td>\n",
       "      <td>M</td>\n",
       "      <td>12th</td>\n",
       "      <td>Huang High School</td>\n",
       "      <td>67</td>\n",
       "      <td>58</td>\n",
       "      <td>0</td>\n",
       "      <td>District</td>\n",
       "      <td>2917</td>\n",
       "      <td>1910635</td>\n",
       "    </tr>\n",
       "    <tr>\n",
       "      <th>4</th>\n",
       "      <td>4</td>\n",
       "      <td>Bonnie Ray</td>\n",
       "      <td>F</td>\n",
       "      <td>9th</td>\n",
       "      <td>Huang High School</td>\n",
       "      <td>97</td>\n",
       "      <td>84</td>\n",
       "      <td>0</td>\n",
       "      <td>District</td>\n",
       "      <td>2917</td>\n",
       "      <td>1910635</td>\n",
       "    </tr>\n",
       "    <tr>\n",
       "      <th>...</th>\n",
       "      <td>...</td>\n",
       "      <td>...</td>\n",
       "      <td>...</td>\n",
       "      <td>...</td>\n",
       "      <td>...</td>\n",
       "      <td>...</td>\n",
       "      <td>...</td>\n",
       "      <td>...</td>\n",
       "      <td>...</td>\n",
       "      <td>...</td>\n",
       "      <td>...</td>\n",
       "    </tr>\n",
       "    <tr>\n",
       "      <th>19995</th>\n",
       "      <td>19995</td>\n",
       "      <td>Mrs. Pam Lewis DVM</td>\n",
       "      <td>F</td>\n",
       "      <td>9th</td>\n",
       "      <td>Bailey High School</td>\n",
       "      <td>68</td>\n",
       "      <td>62</td>\n",
       "      <td>7</td>\n",
       "      <td>District</td>\n",
       "      <td>4976</td>\n",
       "      <td>3124928</td>\n",
       "    </tr>\n",
       "    <tr>\n",
       "      <th>19996</th>\n",
       "      <td>19996</td>\n",
       "      <td>Kelsey Harris</td>\n",
       "      <td>F</td>\n",
       "      <td>9th</td>\n",
       "      <td>Bailey High School</td>\n",
       "      <td>75</td>\n",
       "      <td>75</td>\n",
       "      <td>7</td>\n",
       "      <td>District</td>\n",
       "      <td>4976</td>\n",
       "      <td>3124928</td>\n",
       "    </tr>\n",
       "    <tr>\n",
       "      <th>19997</th>\n",
       "      <td>19997</td>\n",
       "      <td>Robert Mitchell</td>\n",
       "      <td>M</td>\n",
       "      <td>9th</td>\n",
       "      <td>Bailey High School</td>\n",
       "      <td>94</td>\n",
       "      <td>67</td>\n",
       "      <td>7</td>\n",
       "      <td>District</td>\n",
       "      <td>4976</td>\n",
       "      <td>3124928</td>\n",
       "    </tr>\n",
       "    <tr>\n",
       "      <th>19998</th>\n",
       "      <td>19998</td>\n",
       "      <td>Kelly Hopkins</td>\n",
       "      <td>F</td>\n",
       "      <td>9th</td>\n",
       "      <td>Bailey High School</td>\n",
       "      <td>96</td>\n",
       "      <td>58</td>\n",
       "      <td>7</td>\n",
       "      <td>District</td>\n",
       "      <td>4976</td>\n",
       "      <td>3124928</td>\n",
       "    </tr>\n",
       "    <tr>\n",
       "      <th>19999</th>\n",
       "      <td>19999</td>\n",
       "      <td>Misty Jacobs</td>\n",
       "      <td>F</td>\n",
       "      <td>12th</td>\n",
       "      <td>Bailey High School</td>\n",
       "      <td>71</td>\n",
       "      <td>66</td>\n",
       "      <td>7</td>\n",
       "      <td>District</td>\n",
       "      <td>4976</td>\n",
       "      <td>3124928</td>\n",
       "    </tr>\n",
       "  </tbody>\n",
       "</table>\n",
       "<p>20000 rows × 11 columns</p>\n",
       "</div>"
      ],
      "text/plain": [
       "       Student ID        student_name gender grade         school_name  \\\n",
       "0               0        Paul Bradley      M   9th   Huang High School   \n",
       "1               1        Victor Smith      M  12th   Huang High School   \n",
       "2               2     Kevin Rodriguez      M  12th   Huang High School   \n",
       "3               3   Dr. Richard Scott      M  12th   Huang High School   \n",
       "4               4          Bonnie Ray      F   9th   Huang High School   \n",
       "...           ...                 ...    ...   ...                 ...   \n",
       "19995       19995  Mrs. Pam Lewis DVM      F   9th  Bailey High School   \n",
       "19996       19996       Kelsey Harris      F   9th  Bailey High School   \n",
       "19997       19997     Robert Mitchell      M   9th  Bailey High School   \n",
       "19998       19998       Kelly Hopkins      F   9th  Bailey High School   \n",
       "19999       19999        Misty Jacobs      F  12th  Bailey High School   \n",
       "\n",
       "       reading_score  math_score  School ID      type  size   budget  \n",
       "0                 66          79          0  District  2917  1910635  \n",
       "1                 94          61          0  District  2917  1910635  \n",
       "2                 90          60          0  District  2917  1910635  \n",
       "3                 67          58          0  District  2917  1910635  \n",
       "4                 97          84          0  District  2917  1910635  \n",
       "...              ...         ...        ...       ...   ...      ...  \n",
       "19995             68          62          7  District  4976  3124928  \n",
       "19996             75          75          7  District  4976  3124928  \n",
       "19997             94          67          7  District  4976  3124928  \n",
       "19998             96          58          7  District  4976  3124928  \n",
       "19999             71          66          7  District  4976  3124928  \n",
       "\n",
       "[20000 rows x 11 columns]"
      ]
     },
     "execution_count": 176,
     "metadata": {},
     "output_type": "execute_result"
    }
   ],
   "source": [
    "# Dependencies and Setup\n",
    "import pandas as pd\n",
    "#import sidetable\n",
    "\n",
    "# File to Load (Remember to Change These)\n",
    "school_data_to_load = \"Resources/schools_complete.csv\"\n",
    "student_data_to_load = \"Resources/students_complete.csv\"\n",
    "\n",
    "# Read School and Student Data File and store into Pandas DataFrames\n",
    "school_data = pd.read_csv(school_data_to_load)\n",
    "student_data = pd.read_csv(student_data_to_load)\n",
    "\n",
    "# Combine the data into a single dataset.  \n",
    "school_data_complete = pd.merge(student_data, school_data, how=\"left\", on=[\"school_name\", \"school_name\"])\n",
    "school_data_complete.head(20000)"
   ]
  },
  {
   "cell_type": "markdown",
   "metadata": {},
   "source": [
    "## District Summary\n",
    "\n",
    "* Calculate the total number of schools\n",
    "\n",
    "* Calculate the total number of students\n",
    "\n",
    "* Calculate the total budget\n",
    "\n",
    "* Calculate the average math score \n",
    "\n",
    "* Calculate the average reading score\n",
    "\n",
    "* Calculate the percentage of students with a passing math score (70 or greater)\n",
    "\n",
    "* Calculate the percentage of students with a passing reading score (70 or greater)\n",
    "\n",
    "* Calculate the percentage of students who passed math **and** reading (% Overall Passing)\n",
    "\n",
    "* Create a dataframe to hold the above results\n",
    "\n",
    "* Optional: give the displayed data cleaner formatting"
   ]
  },
  {
   "cell_type": "code",
   "execution_count": 177,
   "metadata": {},
   "outputs": [
    {
     "name": "stdout",
     "output_type": "stream",
     "text": [
      "District School Count:\n"
     ]
    },
    {
     "data": {
      "text/plain": [
       "15"
      ]
     },
     "execution_count": 177,
     "metadata": {},
     "output_type": "execute_result"
    }
   ],
   "source": [
    "#calculate total # of schools\n",
    "schoolCount = school_data_complete[\"school_name\"].unique()\n",
    "schoolCount = len(schoolCount)\n",
    "\n",
    "print(\"District School Count:\")\n",
    "schoolCount"
   ]
  },
  {
   "cell_type": "code",
   "execution_count": 178,
   "metadata": {},
   "outputs": [
    {
     "name": "stdout",
     "output_type": "stream",
     "text": [
      "District Student Count:\n"
     ]
    },
    {
     "data": {
      "text/plain": [
       "39170"
      ]
     },
     "execution_count": 178,
     "metadata": {},
     "output_type": "execute_result"
    }
   ],
   "source": [
    "#caculate total # of students\n",
    "studentCount = school_data_complete[\"Student ID\"].unique()\n",
    "studentCount = len(studentCount)\n",
    "\n",
    "print(\"District Student Count:\")\n",
    "studentCount "
   ]
  },
  {
   "cell_type": "code",
   "execution_count": 179,
   "metadata": {
    "scrolled": true
   },
   "outputs": [
    {
     "name": "stdout",
     "output_type": "stream",
     "text": [
      "District Budget: 82932329558\n"
     ]
    }
   ],
   "source": [
    "#Calculate districtbudget. \n",
    "\n",
    "districtBudget = school_data_complete[\"budget\"].sum()\n",
    "\n",
    "print(\"District Budget:\",districtBudget)"
   ]
  },
  {
   "cell_type": "code",
   "execution_count": 180,
   "metadata": {},
   "outputs": [
    {
     "name": "stdout",
     "output_type": "stream",
     "text": [
      "District Math Score Average: 78.98537145774827\n"
     ]
    }
   ],
   "source": [
    "#Caluclate average math score\n",
    "\n",
    "average_math_score = school_data_complete[\"math_score\"].mean()\n",
    "\n",
    "print(\"District Math Score Average:\",average_math_score)\n"
   ]
  },
  {
   "cell_type": "code",
   "execution_count": 181,
   "metadata": {},
   "outputs": [
    {
     "name": "stdout",
     "output_type": "stream",
     "text": [
      "District Reading Score Average: 81.87784018381414\n"
     ]
    }
   ],
   "source": [
    "#Caluclate average reading score\n",
    "\n",
    "average_reading_score = school_data_complete[\"reading_score\"].mean()\n",
    "\n",
    "print(\"District Reading Score Average:\",average_reading_score)"
   ]
  },
  {
   "cell_type": "code",
   "execution_count": 182,
   "metadata": {
    "scrolled": true
   },
   "outputs": [
    {
     "name": "stdout",
     "output_type": "stream",
     "text": [
      "District Math Scores 78.98537145774827\n",
      "District Reading Scores 81.87784018381414\n"
     ]
    }
   ],
   "source": [
    "#Calculate average math score\n",
    "#Calculate average reading score\n",
    "\n",
    "math_score = school_data_complete[\"math_score\"].mean()\n",
    "reading_score = school_data_complete[\"reading_score\"].mean()\n",
    "\n",
    "print(\"District Math Scores\", math_score)\n",
    "print(\"District Reading Scores\", reading_score)"
   ]
  },
  {
   "cell_type": "code",
   "execution_count": 183,
   "metadata": {},
   "outputs": [
    {
     "name": "stdout",
     "output_type": "stream",
     "text": [
      "District Student count: 39170\n",
      "District # passing math: 29370\n",
      "District # passing reading: 33610\n",
      "District % passing math is 74.9808526933878\n",
      "District % passing reading is 85.80546336482001\n"
     ]
    }
   ],
   "source": [
    "# Calculate # and % studenst passing math, passing reading\n",
    "\n",
    "studentCount = school_data_complete[\"Student ID\"].unique()\n",
    "studentCount = len(studentCount)\n",
    "print(\"District Student count:\", studentCount)\n",
    "\n",
    "#Calculate # of students with a passing math score \n",
    "math_passing = school_data_complete[(school_data_complete[\"math_score\"] >= 70)].count()[\"student_name\"]\n",
    "print(\"District # passing math:\",math_passing)\n",
    "\n",
    "#Calculate # of students with a passing reading score \n",
    "reading_passing = school_data_complete[(school_data_complete[\"reading_score\"] >= 70)].count()[\"student_name\"]\n",
    "print(\"District # passing reading:\",reading_passing)\n",
    "\n",
    "#Calculate % passing math, passing reading\n",
    "percent_math_passing = (math_passing/studentCount)* 100\n",
    "percent_reading_passing = (reading_passing/studentCount)* 100\n",
    "\n",
    "print(\"District % passing math is\", percent_math_passing)\n",
    "print(\"District % passing reading is\", percent_reading_passing)\n"
   ]
  },
  {
   "cell_type": "code",
   "execution_count": 184,
   "metadata": {},
   "outputs": [
    {
     "name": "stdout",
     "output_type": "stream",
     "text": [
      "Bailey High School       54.642283\n",
      "Cabrera High School      91.334769\n",
      "Figueroa High School     53.204476\n",
      "Ford High School         54.289887\n",
      "Griffin High School      90.599455\n",
      "Hernandez High School    53.527508\n",
      "Holden High School       89.227166\n",
      "Huang High School        53.513884\n",
      "Johnson High School      53.539172\n",
      "Pena High School         90.540541\n",
      "Rodriguez High School    52.988247\n",
      "Shelton High School      89.892107\n",
      "Thomas High School       90.948012\n",
      "Wilson High School       90.582567\n",
      "Wright High School       90.333333\n",
      "dtype: float64\n"
     ]
    }
   ],
   "source": [
    "#Calculate % Overall Passing \"Top Performing Schools\"\n",
    "\n",
    "overall_passing_average = school_data_complete[(school_data_complete[\"math_score\"] >= 70) & \n",
    "                                               (school_data_complete[\"reading_score\"] >= 70)]\n",
    "\n",
    "overallPassingCount = overall_passing_average.groupby([\"school_name\"]).count()[\"student_name\"]\n",
    "\n",
    "\n",
    "per_school_count = school_data_complete[\"school_name\"].value_counts()\n",
    "\n",
    "percent_passing = overallPassingCount/per_school_count*100\n",
    "\n",
    "#print(overallPassingCount)\n",
    "\n",
    "#print(per_school_count)\n",
    "\n",
    "print(percent_passing)"
   ]
  },
  {
   "cell_type": "code",
   "execution_count": 185,
   "metadata": {},
   "outputs": [
    {
     "data": {
      "text/html": [
       "<div>\n",
       "<style scoped>\n",
       "    .dataframe tbody tr th:only-of-type {\n",
       "        vertical-align: middle;\n",
       "    }\n",
       "\n",
       "    .dataframe tbody tr th {\n",
       "        vertical-align: top;\n",
       "    }\n",
       "\n",
       "    .dataframe thead th {\n",
       "        text-align: right;\n",
       "    }\n",
       "</style>\n",
       "<table border=\"1\" class=\"dataframe\">\n",
       "  <thead>\n",
       "    <tr style=\"text-align: right;\">\n",
       "      <th></th>\n",
       "      <th>District School Count</th>\n",
       "      <th>District Student Count</th>\n",
       "      <th>Total District Budget</th>\n",
       "      <th>District Average Math Score</th>\n",
       "      <th>District Average Reading Score</th>\n",
       "      <th>District % Passing Math Scores</th>\n",
       "      <th>District % Passing Reading Scores</th>\n",
       "      <th>District Overall Passing %'s</th>\n",
       "    </tr>\n",
       "  </thead>\n",
       "  <tbody>\n",
       "    <tr>\n",
       "      <th>0</th>\n",
       "      <td>15</td>\n",
       "      <td>39170</td>\n",
       "      <td>82932329558</td>\n",
       "      <td>78.985371</td>\n",
       "      <td>81.87784</td>\n",
       "      <td>78.985371</td>\n",
       "      <td>81.87784</td>\n",
       "      <td>Bailey High School       54.642283\n",
       "Cabrera Hig...</td>\n",
       "    </tr>\n",
       "  </tbody>\n",
       "</table>\n",
       "</div>"
      ],
      "text/plain": [
       "   District School Count  District Student Count  Total District Budget  \\\n",
       "0                     15                   39170            82932329558   \n",
       "\n",
       "   District Average Math Score  District Average Reading Score  \\\n",
       "0                    78.985371                        81.87784   \n",
       "\n",
       "   District % Passing Math Scores  District % Passing Reading Scores  \\\n",
       "0                       78.985371                           81.87784   \n",
       "\n",
       "                        District Overall Passing %'s  \n",
       "0  Bailey High School       54.642283\n",
       "Cabrera Hig...  "
      ]
     },
     "execution_count": 185,
     "metadata": {},
     "output_type": "execute_result"
    }
   ],
   "source": [
    "#District Summary Directory (Table?)\n",
    "\n",
    "district_summary = {\"District School Count\": schoolCount,\n",
    "                    \"District Student Count\": studentCount,\n",
    "                    \"Total District Budget\": districtBudget,\n",
    "                    \"District Average Math Score\": average_math_score,\n",
    "                    \"District Average Reading Score\": average_reading_score,\n",
    "                    \"District % Passing Math Scores\": math_score,\n",
    "                    \"District % Passing Reading Scores\": reading_score,\n",
    "                    \"District Overall Passing %'s\":percent_passing}\n",
    "\n",
    "#district_summary.head()\n",
    "\n",
    "#create Data Frame from the summary table\n",
    "district_summary_df = pd.DataFrame([district_summary])\n",
    "\n",
    "\n",
    "#Create district summary list\n",
    "#district_summary_list = district_summary.list[[\"Total Students\", \"Total Budget\", \"Average Math Score\", \"Average Reading Score\",\n",
    "                                           #\"% Passing Math\", \"% Passing Reading\", \"% Overall Passing\"]]\n",
    "district_summary_df.head()\n",
    "                        "
   ]
  },
  {
   "cell_type": "code",
   "execution_count": 186,
   "metadata": {},
   "outputs": [
    {
     "data": {
      "text/html": [
       "<div>\n",
       "<style scoped>\n",
       "    .dataframe tbody tr th:only-of-type {\n",
       "        vertical-align: middle;\n",
       "    }\n",
       "\n",
       "    .dataframe tbody tr th {\n",
       "        vertical-align: top;\n",
       "    }\n",
       "\n",
       "    .dataframe thead th {\n",
       "        text-align: right;\n",
       "    }\n",
       "</style>\n",
       "<table border=\"1\" class=\"dataframe\">\n",
       "  <thead>\n",
       "    <tr style=\"text-align: right;\">\n",
       "      <th></th>\n",
       "      <th>District School Count</th>\n",
       "      <th>District Student Count</th>\n",
       "      <th>Total District Budget</th>\n",
       "      <th>District Average Math Score</th>\n",
       "      <th>District Average Reading Score</th>\n",
       "      <th>District % Passing Math Scores</th>\n",
       "      <th>District % Passing Reading Scores</th>\n",
       "      <th>District Overall Passing %'s</th>\n",
       "    </tr>\n",
       "  </thead>\n",
       "  <tbody>\n",
       "    <tr>\n",
       "      <th>Bailey High School</th>\n",
       "      <td>15</td>\n",
       "      <td>39170</td>\n",
       "      <td>82932329558</td>\n",
       "      <td>78.985371</td>\n",
       "      <td>81.87784</td>\n",
       "      <td>78.985371</td>\n",
       "      <td>81.87784</td>\n",
       "      <td>54.642283</td>\n",
       "    </tr>\n",
       "    <tr>\n",
       "      <th>Cabrera High School</th>\n",
       "      <td>15</td>\n",
       "      <td>39170</td>\n",
       "      <td>82932329558</td>\n",
       "      <td>78.985371</td>\n",
       "      <td>81.87784</td>\n",
       "      <td>78.985371</td>\n",
       "      <td>81.87784</td>\n",
       "      <td>91.334769</td>\n",
       "    </tr>\n",
       "    <tr>\n",
       "      <th>Figueroa High School</th>\n",
       "      <td>15</td>\n",
       "      <td>39170</td>\n",
       "      <td>82932329558</td>\n",
       "      <td>78.985371</td>\n",
       "      <td>81.87784</td>\n",
       "      <td>78.985371</td>\n",
       "      <td>81.87784</td>\n",
       "      <td>53.204476</td>\n",
       "    </tr>\n",
       "    <tr>\n",
       "      <th>Ford High School</th>\n",
       "      <td>15</td>\n",
       "      <td>39170</td>\n",
       "      <td>82932329558</td>\n",
       "      <td>78.985371</td>\n",
       "      <td>81.87784</td>\n",
       "      <td>78.985371</td>\n",
       "      <td>81.87784</td>\n",
       "      <td>54.289887</td>\n",
       "    </tr>\n",
       "    <tr>\n",
       "      <th>Griffin High School</th>\n",
       "      <td>15</td>\n",
       "      <td>39170</td>\n",
       "      <td>82932329558</td>\n",
       "      <td>78.985371</td>\n",
       "      <td>81.87784</td>\n",
       "      <td>78.985371</td>\n",
       "      <td>81.87784</td>\n",
       "      <td>90.599455</td>\n",
       "    </tr>\n",
       "    <tr>\n",
       "      <th>Hernandez High School</th>\n",
       "      <td>15</td>\n",
       "      <td>39170</td>\n",
       "      <td>82932329558</td>\n",
       "      <td>78.985371</td>\n",
       "      <td>81.87784</td>\n",
       "      <td>78.985371</td>\n",
       "      <td>81.87784</td>\n",
       "      <td>53.527508</td>\n",
       "    </tr>\n",
       "    <tr>\n",
       "      <th>Holden High School</th>\n",
       "      <td>15</td>\n",
       "      <td>39170</td>\n",
       "      <td>82932329558</td>\n",
       "      <td>78.985371</td>\n",
       "      <td>81.87784</td>\n",
       "      <td>78.985371</td>\n",
       "      <td>81.87784</td>\n",
       "      <td>89.227166</td>\n",
       "    </tr>\n",
       "    <tr>\n",
       "      <th>Huang High School</th>\n",
       "      <td>15</td>\n",
       "      <td>39170</td>\n",
       "      <td>82932329558</td>\n",
       "      <td>78.985371</td>\n",
       "      <td>81.87784</td>\n",
       "      <td>78.985371</td>\n",
       "      <td>81.87784</td>\n",
       "      <td>53.513884</td>\n",
       "    </tr>\n",
       "    <tr>\n",
       "      <th>Johnson High School</th>\n",
       "      <td>15</td>\n",
       "      <td>39170</td>\n",
       "      <td>82932329558</td>\n",
       "      <td>78.985371</td>\n",
       "      <td>81.87784</td>\n",
       "      <td>78.985371</td>\n",
       "      <td>81.87784</td>\n",
       "      <td>53.539172</td>\n",
       "    </tr>\n",
       "    <tr>\n",
       "      <th>Pena High School</th>\n",
       "      <td>15</td>\n",
       "      <td>39170</td>\n",
       "      <td>82932329558</td>\n",
       "      <td>78.985371</td>\n",
       "      <td>81.87784</td>\n",
       "      <td>78.985371</td>\n",
       "      <td>81.87784</td>\n",
       "      <td>90.540541</td>\n",
       "    </tr>\n",
       "    <tr>\n",
       "      <th>Rodriguez High School</th>\n",
       "      <td>15</td>\n",
       "      <td>39170</td>\n",
       "      <td>82932329558</td>\n",
       "      <td>78.985371</td>\n",
       "      <td>81.87784</td>\n",
       "      <td>78.985371</td>\n",
       "      <td>81.87784</td>\n",
       "      <td>52.988247</td>\n",
       "    </tr>\n",
       "    <tr>\n",
       "      <th>Shelton High School</th>\n",
       "      <td>15</td>\n",
       "      <td>39170</td>\n",
       "      <td>82932329558</td>\n",
       "      <td>78.985371</td>\n",
       "      <td>81.87784</td>\n",
       "      <td>78.985371</td>\n",
       "      <td>81.87784</td>\n",
       "      <td>89.892107</td>\n",
       "    </tr>\n",
       "    <tr>\n",
       "      <th>Thomas High School</th>\n",
       "      <td>15</td>\n",
       "      <td>39170</td>\n",
       "      <td>82932329558</td>\n",
       "      <td>78.985371</td>\n",
       "      <td>81.87784</td>\n",
       "      <td>78.985371</td>\n",
       "      <td>81.87784</td>\n",
       "      <td>90.948012</td>\n",
       "    </tr>\n",
       "    <tr>\n",
       "      <th>Wilson High School</th>\n",
       "      <td>15</td>\n",
       "      <td>39170</td>\n",
       "      <td>82932329558</td>\n",
       "      <td>78.985371</td>\n",
       "      <td>81.87784</td>\n",
       "      <td>78.985371</td>\n",
       "      <td>81.87784</td>\n",
       "      <td>90.582567</td>\n",
       "    </tr>\n",
       "    <tr>\n",
       "      <th>Wright High School</th>\n",
       "      <td>15</td>\n",
       "      <td>39170</td>\n",
       "      <td>82932329558</td>\n",
       "      <td>78.985371</td>\n",
       "      <td>81.87784</td>\n",
       "      <td>78.985371</td>\n",
       "      <td>81.87784</td>\n",
       "      <td>90.333333</td>\n",
       "    </tr>\n",
       "  </tbody>\n",
       "</table>\n",
       "</div>"
      ],
      "text/plain": [
       "                       District School Count  District Student Count  \\\n",
       "Bailey High School                        15                   39170   \n",
       "Cabrera High School                       15                   39170   \n",
       "Figueroa High School                      15                   39170   \n",
       "Ford High School                          15                   39170   \n",
       "Griffin High School                       15                   39170   \n",
       "Hernandez High School                     15                   39170   \n",
       "Holden High School                        15                   39170   \n",
       "Huang High School                         15                   39170   \n",
       "Johnson High School                       15                   39170   \n",
       "Pena High School                          15                   39170   \n",
       "Rodriguez High School                     15                   39170   \n",
       "Shelton High School                       15                   39170   \n",
       "Thomas High School                        15                   39170   \n",
       "Wilson High School                        15                   39170   \n",
       "Wright High School                        15                   39170   \n",
       "\n",
       "                       Total District Budget  District Average Math Score  \\\n",
       "Bailey High School               82932329558                    78.985371   \n",
       "Cabrera High School              82932329558                    78.985371   \n",
       "Figueroa High School             82932329558                    78.985371   \n",
       "Ford High School                 82932329558                    78.985371   \n",
       "Griffin High School              82932329558                    78.985371   \n",
       "Hernandez High School            82932329558                    78.985371   \n",
       "Holden High School               82932329558                    78.985371   \n",
       "Huang High School                82932329558                    78.985371   \n",
       "Johnson High School              82932329558                    78.985371   \n",
       "Pena High School                 82932329558                    78.985371   \n",
       "Rodriguez High School            82932329558                    78.985371   \n",
       "Shelton High School              82932329558                    78.985371   \n",
       "Thomas High School               82932329558                    78.985371   \n",
       "Wilson High School               82932329558                    78.985371   \n",
       "Wright High School               82932329558                    78.985371   \n",
       "\n",
       "                       District Average Reading Score  \\\n",
       "Bailey High School                           81.87784   \n",
       "Cabrera High School                          81.87784   \n",
       "Figueroa High School                         81.87784   \n",
       "Ford High School                             81.87784   \n",
       "Griffin High School                          81.87784   \n",
       "Hernandez High School                        81.87784   \n",
       "Holden High School                           81.87784   \n",
       "Huang High School                            81.87784   \n",
       "Johnson High School                          81.87784   \n",
       "Pena High School                             81.87784   \n",
       "Rodriguez High School                        81.87784   \n",
       "Shelton High School                          81.87784   \n",
       "Thomas High School                           81.87784   \n",
       "Wilson High School                           81.87784   \n",
       "Wright High School                           81.87784   \n",
       "\n",
       "                       District % Passing Math Scores  \\\n",
       "Bailey High School                          78.985371   \n",
       "Cabrera High School                         78.985371   \n",
       "Figueroa High School                        78.985371   \n",
       "Ford High School                            78.985371   \n",
       "Griffin High School                         78.985371   \n",
       "Hernandez High School                       78.985371   \n",
       "Holden High School                          78.985371   \n",
       "Huang High School                           78.985371   \n",
       "Johnson High School                         78.985371   \n",
       "Pena High School                            78.985371   \n",
       "Rodriguez High School                       78.985371   \n",
       "Shelton High School                         78.985371   \n",
       "Thomas High School                          78.985371   \n",
       "Wilson High School                          78.985371   \n",
       "Wright High School                          78.985371   \n",
       "\n",
       "                       District % Passing Reading Scores  \\\n",
       "Bailey High School                              81.87784   \n",
       "Cabrera High School                             81.87784   \n",
       "Figueroa High School                            81.87784   \n",
       "Ford High School                                81.87784   \n",
       "Griffin High School                             81.87784   \n",
       "Hernandez High School                           81.87784   \n",
       "Holden High School                              81.87784   \n",
       "Huang High School                               81.87784   \n",
       "Johnson High School                             81.87784   \n",
       "Pena High School                                81.87784   \n",
       "Rodriguez High School                           81.87784   \n",
       "Shelton High School                             81.87784   \n",
       "Thomas High School                              81.87784   \n",
       "Wilson High School                              81.87784   \n",
       "Wright High School                              81.87784   \n",
       "\n",
       "                       District Overall Passing %'s  \n",
       "Bailey High School                        54.642283  \n",
       "Cabrera High School                       91.334769  \n",
       "Figueroa High School                      53.204476  \n",
       "Ford High School                          54.289887  \n",
       "Griffin High School                       90.599455  \n",
       "Hernandez High School                     53.527508  \n",
       "Holden High School                        89.227166  \n",
       "Huang High School                         53.513884  \n",
       "Johnson High School                       53.539172  \n",
       "Pena High School                          90.540541  \n",
       "Rodriguez High School                     52.988247  \n",
       "Shelton High School                       89.892107  \n",
       "Thomas High School                        90.948012  \n",
       "Wilson High School                        90.582567  \n",
       "Wright High School                        90.333333  "
      ]
     },
     "execution_count": 186,
     "metadata": {},
     "output_type": "execute_result"
    }
   ],
   "source": [
    "#District DataFrame\n",
    "\n",
    "district_df_1 = pd.DataFrame(district_summary)\n",
    "district_df_1\n"
   ]
  },
  {
   "cell_type": "markdown",
   "metadata": {},
   "source": [
    "## Top Performing Schools (By % Overall Passing)"
   ]
  },
  {
   "cell_type": "markdown",
   "metadata": {},
   "source": [
    "* Sort and display the top five performing schools by % overall passing."
   ]
  },
  {
   "cell_type": "code",
   "execution_count": 187,
   "metadata": {},
   "outputs": [
    {
     "data": {
      "text/plain": [
       "Cabrera High School    91.334769\n",
       "Thomas High School     90.948012\n",
       "Griffin High School    90.599455\n",
       "Wilson High School     90.582567\n",
       "Pena High School       90.540541\n",
       "dtype: float64"
      ]
     },
     "execution_count": 187,
     "metadata": {},
     "output_type": "execute_result"
    }
   ],
   "source": [
    "#Sort-Top five performing schools by % overall passing\n",
    "\n",
    "\n",
    "percent_passing.sort_values(ascending= False)[:5]\n",
    "\n",
    "#percent_passing.value_counts()\n",
    "#5 best perfomring schools"
   ]
  },
  {
   "cell_type": "markdown",
   "metadata": {},
   "source": [
    "## Bottom Performing Schools (By % Overall Passing)"
   ]
  },
  {
   "cell_type": "markdown",
   "metadata": {},
   "source": [
    "* Sort and display the five worst-performing schools by % overall passing."
   ]
  },
  {
   "cell_type": "code",
   "execution_count": 188,
   "metadata": {},
   "outputs": [
    {
     "data": {
      "text/plain": [
       "Rodriguez High School    52.988247\n",
       "Figueroa High School     53.204476\n",
       "Huang High School        53.513884\n",
       "Hernandez High School    53.527508\n",
       "Johnson High School      53.539172\n",
       "dtype: float64"
      ]
     },
     "execution_count": 188,
     "metadata": {},
     "output_type": "execute_result"
    }
   ],
   "source": [
    "#Sort-Bottom five performing schools by % overall passing\n",
    "\n",
    "percent_passing.sort_values()[:5]  \n",
    "\n",
    "#5_worst_performing"
   ]
  },
  {
   "cell_type": "code",
   "execution_count": 189,
   "metadata": {},
   "outputs": [],
   "source": [
    "#Cleanup formatting"
   ]
  },
  {
   "cell_type": "markdown",
   "metadata": {},
   "source": [
    "## School Summary"
   ]
  },
  {
   "cell_type": "markdown",
   "metadata": {},
   "source": [
    "* Create an overview table that summarizes key metrics about each school, including:\n",
    "  * School Name\n",
    "  * School Type\n",
    "  * Total Students\n",
    "  * Total School Budget\n",
    "  * Per Student Budget\n",
    "  * Average Math Score\n",
    "  * Average Reading Score\n",
    "  * % Passing Math\n",
    "  * % Passing Reading\n",
    "  * % Overall Passing (The percentage of students that passed math **and** reading.)\n",
    "  \n",
    "* Create a dataframe to hold the above results"
   ]
  },
  {
   "cell_type": "code",
   "execution_count": 190,
   "metadata": {},
   "outputs": [
    {
     "data": {
      "text/html": [
       "<div>\n",
       "<style scoped>\n",
       "    .dataframe tbody tr th:only-of-type {\n",
       "        vertical-align: middle;\n",
       "    }\n",
       "\n",
       "    .dataframe tbody tr th {\n",
       "        vertical-align: top;\n",
       "    }\n",
       "\n",
       "    .dataframe thead th {\n",
       "        text-align: right;\n",
       "    }\n",
       "</style>\n",
       "<table border=\"1\" class=\"dataframe\">\n",
       "  <thead>\n",
       "    <tr style=\"text-align: right;\">\n",
       "      <th></th>\n",
       "      <th>School ID</th>\n",
       "      <th>school_name</th>\n",
       "      <th>type</th>\n",
       "      <th>size</th>\n",
       "      <th>budget</th>\n",
       "    </tr>\n",
       "  </thead>\n",
       "  <tbody>\n",
       "    <tr>\n",
       "      <th>0</th>\n",
       "      <td>0</td>\n",
       "      <td>Huang High School</td>\n",
       "      <td>District</td>\n",
       "      <td>2917</td>\n",
       "      <td>1910635</td>\n",
       "    </tr>\n",
       "    <tr>\n",
       "      <th>1</th>\n",
       "      <td>1</td>\n",
       "      <td>Figueroa High School</td>\n",
       "      <td>District</td>\n",
       "      <td>2949</td>\n",
       "      <td>1884411</td>\n",
       "    </tr>\n",
       "    <tr>\n",
       "      <th>2</th>\n",
       "      <td>2</td>\n",
       "      <td>Shelton High School</td>\n",
       "      <td>Charter</td>\n",
       "      <td>1761</td>\n",
       "      <td>1056600</td>\n",
       "    </tr>\n",
       "    <tr>\n",
       "      <th>3</th>\n",
       "      <td>3</td>\n",
       "      <td>Hernandez High School</td>\n",
       "      <td>District</td>\n",
       "      <td>4635</td>\n",
       "      <td>3022020</td>\n",
       "    </tr>\n",
       "    <tr>\n",
       "      <th>4</th>\n",
       "      <td>4</td>\n",
       "      <td>Griffin High School</td>\n",
       "      <td>Charter</td>\n",
       "      <td>1468</td>\n",
       "      <td>917500</td>\n",
       "    </tr>\n",
       "  </tbody>\n",
       "</table>\n",
       "</div>"
      ],
      "text/plain": [
       "   School ID            school_name      type  size   budget\n",
       "0          0      Huang High School  District  2917  1910635\n",
       "1          1   Figueroa High School  District  2949  1884411\n",
       "2          2    Shelton High School   Charter  1761  1056600\n",
       "3          3  Hernandez High School  District  4635  3022020\n",
       "4          4    Griffin High School   Charter  1468   917500"
      ]
     },
     "execution_count": 190,
     "metadata": {},
     "output_type": "execute_result"
    }
   ],
   "source": [
    "# Dependencies and Setup\n",
    "import pandas as pd\n",
    "#import sidetable\n",
    "\n",
    "# File to Load (Remember to Change These)\n",
    "school_data_to_load = \"Resources/schools_complete.csv\"\n",
    "student_data_to_load = \"Resources/students_complete.csv\"\n",
    "\n",
    "# Read School and Student Data File and store into Pandas DataFrames\n",
    "school_data = pd.read_csv(school_data_to_load)\n",
    "student_data = pd.read_csv(student_data_to_load)\n",
    "\n",
    "# Combine the data into a single dataset.  \n",
    "school_data_complete = pd.merge(student_data, school_data, how=\"left\", on=[\"school_name\", \"school_name\"])\n",
    "school_data_complete.head()\n",
    "school_data.head()"
   ]
  },
  {
   "cell_type": "code",
   "execution_count": 191,
   "metadata": {},
   "outputs": [
    {
     "data": {
      "text/html": [
       "<div>\n",
       "<style scoped>\n",
       "    .dataframe tbody tr th:only-of-type {\n",
       "        vertical-align: middle;\n",
       "    }\n",
       "\n",
       "    .dataframe tbody tr th {\n",
       "        vertical-align: top;\n",
       "    }\n",
       "\n",
       "    .dataframe thead th {\n",
       "        text-align: right;\n",
       "    }\n",
       "</style>\n",
       "<table border=\"1\" class=\"dataframe\">\n",
       "  <thead>\n",
       "    <tr style=\"text-align: right;\">\n",
       "      <th></th>\n",
       "      <th>Student ID</th>\n",
       "      <th>student_name</th>\n",
       "      <th>gender</th>\n",
       "      <th>grade</th>\n",
       "      <th>school_name</th>\n",
       "      <th>reading_score</th>\n",
       "      <th>math_score</th>\n",
       "      <th>School ID</th>\n",
       "      <th>type</th>\n",
       "      <th>size</th>\n",
       "      <th>budget</th>\n",
       "    </tr>\n",
       "  </thead>\n",
       "  <tbody>\n",
       "    <tr>\n",
       "      <th>0</th>\n",
       "      <td>0</td>\n",
       "      <td>Paul Bradley</td>\n",
       "      <td>M</td>\n",
       "      <td>9th</td>\n",
       "      <td>Huang High School</td>\n",
       "      <td>66</td>\n",
       "      <td>79</td>\n",
       "      <td>0</td>\n",
       "      <td>District</td>\n",
       "      <td>2917</td>\n",
       "      <td>1910635</td>\n",
       "    </tr>\n",
       "    <tr>\n",
       "      <th>1</th>\n",
       "      <td>1</td>\n",
       "      <td>Victor Smith</td>\n",
       "      <td>M</td>\n",
       "      <td>12th</td>\n",
       "      <td>Huang High School</td>\n",
       "      <td>94</td>\n",
       "      <td>61</td>\n",
       "      <td>0</td>\n",
       "      <td>District</td>\n",
       "      <td>2917</td>\n",
       "      <td>1910635</td>\n",
       "    </tr>\n",
       "    <tr>\n",
       "      <th>2</th>\n",
       "      <td>2</td>\n",
       "      <td>Kevin Rodriguez</td>\n",
       "      <td>M</td>\n",
       "      <td>12th</td>\n",
       "      <td>Huang High School</td>\n",
       "      <td>90</td>\n",
       "      <td>60</td>\n",
       "      <td>0</td>\n",
       "      <td>District</td>\n",
       "      <td>2917</td>\n",
       "      <td>1910635</td>\n",
       "    </tr>\n",
       "    <tr>\n",
       "      <th>3</th>\n",
       "      <td>3</td>\n",
       "      <td>Dr. Richard Scott</td>\n",
       "      <td>M</td>\n",
       "      <td>12th</td>\n",
       "      <td>Huang High School</td>\n",
       "      <td>67</td>\n",
       "      <td>58</td>\n",
       "      <td>0</td>\n",
       "      <td>District</td>\n",
       "      <td>2917</td>\n",
       "      <td>1910635</td>\n",
       "    </tr>\n",
       "    <tr>\n",
       "      <th>4</th>\n",
       "      <td>4</td>\n",
       "      <td>Bonnie Ray</td>\n",
       "      <td>F</td>\n",
       "      <td>9th</td>\n",
       "      <td>Huang High School</td>\n",
       "      <td>97</td>\n",
       "      <td>84</td>\n",
       "      <td>0</td>\n",
       "      <td>District</td>\n",
       "      <td>2917</td>\n",
       "      <td>1910635</td>\n",
       "    </tr>\n",
       "  </tbody>\n",
       "</table>\n",
       "</div>"
      ],
      "text/plain": [
       "   Student ID       student_name gender grade        school_name  \\\n",
       "0           0       Paul Bradley      M   9th  Huang High School   \n",
       "1           1       Victor Smith      M  12th  Huang High School   \n",
       "2           2    Kevin Rodriguez      M  12th  Huang High School   \n",
       "3           3  Dr. Richard Scott      M  12th  Huang High School   \n",
       "4           4         Bonnie Ray      F   9th  Huang High School   \n",
       "\n",
       "   reading_score  math_score  School ID      type  size   budget  \n",
       "0             66          79          0  District  2917  1910635  \n",
       "1             94          61          0  District  2917  1910635  \n",
       "2             90          60          0  District  2917  1910635  \n",
       "3             67          58          0  District  2917  1910635  \n",
       "4             97          84          0  District  2917  1910635  "
      ]
     },
     "execution_count": 191,
     "metadata": {},
     "output_type": "execute_result"
    }
   ],
   "source": [
    "# Combine the data into a single dataset.  \n",
    "school_data_complete = pd.merge(student_data, school_data, how=\"left\", on=[\"school_name\", \"school_name\"])\n",
    "school_data_complete.head()"
   ]
  },
  {
   "cell_type": "code",
   "execution_count": null,
   "metadata": {},
   "outputs": [],
   "source": []
  },
  {
   "cell_type": "code",
   "execution_count": 238,
   "metadata": {},
   "outputs": [
    {
     "data": {
      "text/plain": [
       "school_name\n",
       "Bailey High School       3124928\n",
       "Cabrera High School      1081356\n",
       "Figueroa High School     1884411\n",
       "Ford High School         1763916\n",
       "Griffin High School       917500\n",
       "Hernandez High School    3022020\n",
       "Holden High School        248087\n",
       "Huang High School        1910635\n",
       "Johnson High School      3094650\n",
       "Pena High School          585858\n",
       "Rodriguez High School    2547363\n",
       "Shelton High School      1056600\n",
       "Thomas High School       1043130\n",
       "Wilson High School       1319574\n",
       "Wright High School       1049400\n",
       "Name: budget, dtype: int64"
      ]
     },
     "execution_count": 238,
     "metadata": {},
     "output_type": "execute_result"
    }
   ],
   "source": [
    "#Calculate Total School Budget by school\n",
    "\n",
    "grouped_schoolCount = school_data.groupby(['school_name']).count()\n",
    "grouped_schoolCount\n",
    "\n",
    "#grouped_school_budget = school_data_complete.groupby([\"school_name\"]).sum()\n",
    "\n",
    "grouped_school_budget = school_data.groupby([\"school_name\"]).sum()[\"budget\"]\n",
    "grouped_school_budget\n"
   ]
  },
  {
   "cell_type": "code",
   "execution_count": 253,
   "metadata": {
    "scrolled": true
   },
   "outputs": [
    {
     "data": {
      "text/plain": [
       "school_name\n",
       "Bailey High School       628.0\n",
       "Cabrera High School      582.0\n",
       "Figueroa High School     639.0\n",
       "Ford High School         644.0\n",
       "Griffin High School      625.0\n",
       "Hernandez High School    652.0\n",
       "Holden High School       581.0\n",
       "Huang High School        655.0\n",
       "Johnson High School      650.0\n",
       "Pena High School         609.0\n",
       "Rodriguez High School    637.0\n",
       "Shelton High School      600.0\n",
       "Thomas High School       638.0\n",
       "Wilson High School       578.0\n",
       "Wright High School       583.0\n",
       "dtype: float64"
      ]
     },
     "execution_count": 253,
     "metadata": {},
     "output_type": "execute_result"
    }
   ],
   "source": [
    "#Group school budget Per Student by school\n",
    "#grouped_student_count = school_data.groupby([\"student_ID\"]).count()[\"school_name\"]\n",
    "#grouped_student_count\n",
    "\n",
    "grouped_student_count = school_data_complete.groupby([\"school_name\"]).count()[\"student_name\"]\n",
    "grouped_student_count \n",
    "\n",
    "grouped_school_budget = school_data.groupby([\"school_name\"]).sum()[\"budget\"]\n",
    "grouped_school_budget\n",
    "\n",
    "per_student_budget = grouped_school_budget/grouped_student_count\n",
    "per_student_budget"
   ]
  },
  {
   "cell_type": "code",
   "execution_count": 194,
   "metadata": {},
   "outputs": [
    {
     "data": {
      "text/plain": [
       "school_name\n",
       "Bailey High School       77.048432\n",
       "Cabrera High School      83.061895\n",
       "Figueroa High School     76.711767\n",
       "Ford High School         77.102592\n",
       "Griffin High School      83.351499\n",
       "Hernandez High School    77.289752\n",
       "Holden High School       83.803279\n",
       "Huang High School        76.629414\n",
       "Johnson High School      77.072464\n",
       "Pena High School         83.839917\n",
       "Rodriguez High School    76.842711\n",
       "Shelton High School      83.359455\n",
       "Thomas High School       83.418349\n",
       "Wilson High School       83.274201\n",
       "Wright High School       83.682222\n",
       "Name: math_score, dtype: float64"
      ]
     },
     "execution_count": 194,
     "metadata": {},
     "output_type": "execute_result"
    }
   ],
   "source": [
    "#Average math score by school\n",
    "\n",
    "grouped_school_math_score =school_data_complete.groupby(['school_name']).mean()[\"math_score\"]\n",
    "grouped_school_math_score \n"
   ]
  },
  {
   "cell_type": "code",
   "execution_count": 195,
   "metadata": {},
   "outputs": [
    {
     "data": {
      "text/plain": [
       "school_name\n",
       "Bailey High School       81.033963\n",
       "Cabrera High School      83.975780\n",
       "Figueroa High School     81.158020\n",
       "Ford High School         80.746258\n",
       "Griffin High School      83.816757\n",
       "Hernandez High School    80.934412\n",
       "Holden High School       83.814988\n",
       "Huang High School        81.182722\n",
       "Johnson High School      80.966394\n",
       "Pena High School         84.044699\n",
       "Rodriguez High School    80.744686\n",
       "Shelton High School      83.725724\n",
       "Thomas High School       83.848930\n",
       "Wilson High School       83.989488\n",
       "Wright High School       83.955000\n",
       "Name: reading_score, dtype: float64"
      ]
     },
     "execution_count": 195,
     "metadata": {},
     "output_type": "execute_result"
    }
   ],
   "source": [
    "#Average reading score by school\n",
    "\n",
    "grouped_school_reading_score =school_data_complete.groupby(['school_name']).mean()[\"reading_score\"]\n",
    "grouped_school_reading_score \n"
   ]
  },
  {
   "cell_type": "code",
   "execution_count": 196,
   "metadata": {},
   "outputs": [
    {
     "data": {
      "text/plain": [
       "school_name\n",
       "Bailey High School       3124928.0\n",
       "Cabrera High School      1081356.0\n",
       "Figueroa High School     1884411.0\n",
       "Ford High School         1763916.0\n",
       "Griffin High School       917500.0\n",
       "Hernandez High School    3022020.0\n",
       "Holden High School        248087.0\n",
       "Huang High School        1910635.0\n",
       "Johnson High School      3094650.0\n",
       "Pena High School          585858.0\n",
       "Rodriguez High School    2547363.0\n",
       "Shelton High School      1056600.0\n",
       "Thomas High School       1043130.0\n",
       "Wilson High School       1319574.0\n",
       "Wright High School       1049400.0\n",
       "Name: budget, dtype: float64"
      ]
     },
     "execution_count": 196,
     "metadata": {},
     "output_type": "execute_result"
    }
   ],
   "source": [
    "#Average budget by school\n",
    "grouped_school_budget = school_data_complete.groupby([\"school_name\"]).mean()[\"budget\"]\n",
    "grouped_school_budget \n",
    "\n"
   ]
  },
  {
   "cell_type": "code",
   "execution_count": 197,
   "metadata": {},
   "outputs": [
    {
     "data": {
      "text/plain": [
       "school_name\n",
       "Huang High School        District\n",
       "Figueroa High School     District\n",
       "Shelton High School       Charter\n",
       "Hernandez High School    District\n",
       "Griffin High School       Charter\n",
       "Wilson High School        Charter\n",
       "Cabrera High School       Charter\n",
       "Bailey High School       District\n",
       "Holden High School        Charter\n",
       "Pena High School          Charter\n",
       "Wright High School        Charter\n",
       "Rodriguez High School    District\n",
       "Johnson High School      District\n",
       "Ford High School         District\n",
       "Thomas High School        Charter\n",
       "Name: type, dtype: object"
      ]
     },
     "execution_count": 197,
     "metadata": {},
     "output_type": "execute_result"
    }
   ],
   "source": [
    "#Group schools by type\n",
    "\n",
    "school_types = school_data.set_index([\"school_name\"])[\"type\"]\n",
    "\n",
    "grouped_school_type = school_data_complete.groupby(['school_name'])[\"type\"]\n",
    "grouped_school_type\n",
    "school_types"
   ]
  },
  {
   "cell_type": "code",
   "execution_count": 258,
   "metadata": {},
   "outputs": [
    {
     "data": {
      "text/plain": [
       "school_name\n",
       "Bailey High School        5.902331\n",
       "Cabrera High School      15.807320\n",
       "Figueroa High School      9.959308\n",
       "Ford High School         10.722892\n",
       "Griffin High School      20.006812\n",
       "Hernandez High School     6.336570\n",
       "Holden High School       68.782201\n",
       "Huang High School        10.068564\n",
       "Johnson High School       6.168872\n",
       "Pena High School         30.530146\n",
       "Rodriguez High School     7.344336\n",
       "Shelton High School      16.678024\n",
       "Thomas High School       17.963303\n",
       "Wilson High School       12.864652\n",
       "Wright High School       16.316667\n",
       "Name: student_name, dtype: float64"
      ]
     },
     "execution_count": 258,
     "metadata": {},
     "output_type": "execute_result"
    }
   ],
   "source": [
    "#Group % Passing Math by School\n",
    "\n",
    "#count of students by school\n",
    "grouped_student_count = school_data_complete.groupby(['school_name']).count()[\"student_name\"]\n",
    "grouped_student_count \n",
    "\n",
    "#Calculate # of students with a passing math score \n",
    "passing_math = school_data_complete[(school_data_complete[\"math_score\"] >= 70)].count()[\"student_name\"]\n",
    "passing_math\n",
    "\n",
    "#Calculate % passing math by school\n",
    "grouped_passing_math = passing_math/grouped_student_count\n",
    "grouped_passing_math"
   ]
  },
  {
   "cell_type": "code",
   "execution_count": 199,
   "metadata": {},
   "outputs": [
    {
     "data": {
      "text/plain": [
       "school_name\n",
       "Bailey High School        6.754421\n",
       "Cabrera High School      18.089343\n",
       "Figueroa High School     11.397084\n",
       "Ford High School         12.270902\n",
       "Griffin High School      22.895095\n",
       "Hernandez High School     7.251348\n",
       "Holden High School       78.711944\n",
       "Huang High School        11.522112\n",
       "Johnson High School       7.059441\n",
       "Pena High School         34.937630\n",
       "Rodriguez High School     8.404601\n",
       "Shelton High School      19.085747\n",
       "Thomas High School       20.556575\n",
       "Wilson High School       14.721857\n",
       "Wright High School       18.672222\n",
       "Name: student_name, dtype: float64"
      ]
     },
     "execution_count": 199,
     "metadata": {},
     "output_type": "execute_result"
    }
   ],
   "source": [
    "#Group % Passing Reading by School\n",
    "\n",
    "#count of students by school\n",
    "grouped_student_count = school_data_complete.groupby(['school_name']).count()[\"student_name\"]\n",
    "grouped_student_count \n",
    "\n",
    "#Calculate # of students with a passing math score \n",
    "passing_reading = school_data_complete[(school_data_complete[\"reading_score\"] >= 70)].count()[\"student_name\"]\n",
    "passing_reading\n",
    "\n",
    "grouped_passing_reading = passing_reading/grouped_student_count\n",
    "grouped_passing_reading"
   ]
  },
  {
   "cell_type": "code",
   "execution_count": 232,
   "metadata": {},
   "outputs": [
    {
     "data": {
      "text/plain": [
       "Bailey High School       54.642283\n",
       "Cabrera High School      91.334769\n",
       "Figueroa High School     53.204476\n",
       "Ford High School         54.289887\n",
       "Griffin High School      90.599455\n",
       "Hernandez High School    53.527508\n",
       "Holden High School       89.227166\n",
       "Huang High School        53.513884\n",
       "Johnson High School      53.539172\n",
       "Pena High School         90.540541\n",
       "Rodriguez High School    52.988247\n",
       "Shelton High School      89.892107\n",
       "Thomas High School       90.948012\n",
       "Wilson High School       90.582567\n",
       "Wright High School       90.333333\n",
       "dtype: float64"
      ]
     },
     "execution_count": 232,
     "metadata": {},
     "output_type": "execute_result"
    }
   ],
   "source": [
    "#Group % Overall Passing by School\n",
    "#Calculate % Overall Passing \"Top Performing Schools\"\n",
    "\n",
    "overall_passing_average = school_data_complete[(school_data_complete[\"math_score\"] >= 70) & \n",
    "                                               (school_data_complete[\"reading_score\"] >= 70)]\n",
    "\n",
    "overallPassingCount = overall_passing_average.groupby([\"school_name\"]).count()[\"student_name\"]\n",
    "\n",
    "\n",
    "per_school_count = school_data_complete[\"school_name\"].value_counts()\n",
    "\n",
    "percent_passing = overallPassingCount/per_school_count*100\n",
    "\n",
    "percent_passing\n"
   ]
  },
  {
   "cell_type": "markdown",
   "metadata": {
    "collapsed": true
   },
   "source": [
    "## Math Scores by Grade  \n",
    "* Create a table that lists the average Math Score for students of each grade level (9th, 10th, 11th, 12th) at each school.\n",
    "\n",
    "  * Create a pandas series for each grade. Hint: use a conditional statement.\n",
    "  \n",
    "  * Group each series by school\n",
    "  \n",
    "  * Combine the series into a dataframe\n",
    "  \n",
    "  * Optional: give the displayed data cleaner formatting"
   ]
  },
  {
   "cell_type": "code",
   "execution_count": 201,
   "metadata": {},
   "outputs": [],
   "source": [
    "#Math Scores by Grade\n",
    "#Create a table that lists the average Math Score for students of each grade level (9th, 10th, 11th, 12th) at each school."
   ]
  },
  {
   "cell_type": "code",
   "execution_count": 256,
   "metadata": {},
   "outputs": [
    {
     "data": {
      "text/plain": [
       "school_name\n",
       "Bailey High School       77.515588\n",
       "Cabrera High School      82.765560\n",
       "Figueroa High School     76.884344\n",
       "Ford High School         76.918058\n",
       "Griffin High School      83.842105\n",
       "Hernandez High School    77.136029\n",
       "Holden High School       85.000000\n",
       "Huang High School        76.446602\n",
       "Johnson High School      77.491653\n",
       "Pena High School         84.328125\n",
       "Rodriguez High School    76.395626\n",
       "Shelton High School      83.383495\n",
       "Thomas High School       83.498795\n",
       "Wilson High School       83.195326\n",
       "Wright High School       83.836782\n",
       "Name: math_score, dtype: float64"
      ]
     },
     "execution_count": 256,
     "metadata": {},
     "output_type": "execute_result"
    }
   ],
   "source": [
    "#Average Math Scores by Grade\n",
    "#ninth_graders.df = ninth_graders.pd.DataFrame[school_data_complete[(school_data_complete)]:\n",
    "\n",
    "ninth_graders = school_data_complete[(school_data_complete[\"grade\"] == \"9th\")]\n",
    "ninth_graders\n",
    "\n",
    "grouped_ninth_graders = ninth_graders.groupby(['school_name']).mean()[\"math_score\"]\n",
    "grouped_ninth_graders\n",
    "\n",
    "#print(ninth_graders)\n",
    "\n",
    "#tenth_graders = school_data_complete[(school_data_complete[\"grade\"] == \"10th\")]\n",
    "\n",
    "tenth_graders = school_data_complete[(school_data_complete[\"grade\"] == \"10th\")]\n",
    "tenth_graders\n",
    "\n",
    "grouped_tenth_graders = tenth_graders.groupby(['school_name']).mean()[\"math_score\"]\n",
    "grouped_tenth_graders \n",
    "\n",
    "#print(tenth_graders\n",
    "     \n",
    "#eleventh_graders = school_data_complete[(school_data_complete[\"grade\"] == \"11th\")]\n",
    "\n",
    "eleventh_graders = school_data_complete[(school_data_complete[\"grade\"] == \"11th\")]\n",
    "eleventh_graders\n",
    "\n",
    "grouped_eleventh_graders = eleventh_graders.groupby(['school_name']).mean()[\"math_score\"]                                                              \n",
    "grouped_eleventh_graders\n",
    "\n",
    "#print(eleventh_graders)\n",
    "\n",
    "#twelfth_graders = school_data_complete[(school_data_complete[\"grade\"] == \"12th\")]\n",
    "\n",
    "twelfth_graders = school_data_complete[(school_data_complete[\"grade\"] == \"12th\")]\n",
    "twelfth_graders\n",
    "\n",
    "grouped_twelfth_graders = eleventh_graders.groupby(['school_name']).mean()[\"math_score\"]\n",
    "grouped_twelfth_graders\n",
    "\n",
    "#print(twelfth_graders)"
   ]
  },
  {
   "cell_type": "markdown",
   "metadata": {},
   "source": [
    "Reading Scores by Grade\n",
    "\n",
    "* Create a table that lists the average Reading Score for students of each grade level (9th, 10th, 11th, 12th) at each school.\n",
    "\n",
    "  * Create a pandas series for each grade. Hint: use a conditional statement.\n",
    "  \n",
    "  * Group each series by school\n",
    "  \n",
    "  * Combine the series into a dataframe\n",
    "  \n",
    "  * Optional: give the displayed data cleaner formatting"
   ]
  },
  {
   "cell_type": "markdown",
   "metadata": {},
   "source": [
    "* Perform the same operations as above for reading scores"
   ]
  },
  {
   "cell_type": "code",
   "execution_count": 203,
   "metadata": {},
   "outputs": [
    {
     "data": {
      "text/plain": [
       "school_name\n",
       "Bailey High School       80.945643\n",
       "Cabrera High School      83.788382\n",
       "Figueroa High School     80.640339\n",
       "Ford High School         80.403642\n",
       "Griffin High School      84.288089\n",
       "Hernandez High School    81.396140\n",
       "Holden High School       83.815534\n",
       "Huang High School        81.417476\n",
       "Johnson High School      80.616027\n",
       "Pena High School         84.335938\n",
       "Rodriguez High School    80.864811\n",
       "Shelton High School      84.373786\n",
       "Thomas High School       83.585542\n",
       "Wilson High School       83.764608\n",
       "Wright High School       84.156322\n",
       "Name: reading_score, dtype: float64"
      ]
     },
     "execution_count": 203,
     "metadata": {},
     "output_type": "execute_result"
    }
   ],
   "source": [
    "#Reading Scores by Grade\n",
    "\n",
    "#Create a table that lists the average Reading Score for students of each grade level (9th, 10th, 11th, 12th) at each school.\n",
    "\n",
    "#Average Reading Scores by Grade\n",
    "#ninth_graders.df = ninth_graders.pd.DataFrame[school_data_complete[(school_data_complete)]:\n",
    "\n",
    "ninth_graders = school_data_complete[(school_data_complete[\"grade\"] == \"9th\")]\n",
    "ninth_graders\n",
    "\n",
    "grouped_ninth_graders = ninth_graders.groupby(['school_name']).mean()[\"reading_score\"]\n",
    "grouped_ninth_graders\n",
    "\n",
    "#print(ninth_graders)\n",
    "\n",
    "#tenth_graders = school_data_complete[(school_data_complete[\"grade\"] == \"10th\")]\n",
    "\n",
    "tenth_graders = school_data_complete[(school_data_complete[\"grade\"] == \"10th\")]\n",
    "tenth_graders\n",
    "\n",
    "grouped_tenth_graders = tenth_graders.groupby(['school_name']).mean()[\"reading_score\"]\n",
    "grouped_tenth_graders \n",
    "\n",
    "#print(tenth_graders\n",
    "     \n",
    "#eleventh_graders = school_data_complete[(school_data_complete[\"grade\"] == \"11th\")]\n",
    "\n",
    "eleventh_graders = school_data_complete[(school_data_complete[\"grade\"] == \"11th\")]\n",
    "eleventh_graders\n",
    "\n",
    "grouped_eleventh_graders = eleventh_graders.groupby(['school_name']).mean()[\"reading_score\"]                                                              \n",
    "grouped_eleventh_graders\n",
    "\n",
    "#print(eleventh_graders)\n",
    "\n",
    "#twelfth_graders = school_data_complete[(school_data_complete[\"grade\"] == \"12th\")]\n",
    "\n",
    "twelfth_graders = school_data_complete[(school_data_complete[\"grade\"] == \"12th\")]\n",
    "twelfth_graders\n",
    "\n",
    "grouped_twelfth_graders = eleventh_graders.groupby(['school_name']).mean()[\"reading_score\"]\n",
    "grouped_twelfth_graders\n",
    "\n",
    "#print(twelfth_graders)"
   ]
  },
  {
   "cell_type": "markdown",
   "metadata": {},
   "source": [
    "## Scores by School Spending"
   ]
  },
  {
   "cell_type": "markdown",
   "metadata": {},
   "source": [
    "* Create a table that breaks down school performances based on average Spending Ranges (Per Student). Use 4 reasonable bins to group school spending. Include in the table each of the following:\n",
    "  * Average Math Score\n",
    "  * Average Reading Score\n",
    "  * % Passing Math\n",
    "  * % Passing Reading\n",
    "  * Overall Passing Rate (Average of the above two)"
   ]
  },
  {
   "cell_type": "code",
   "execution_count": 270,
   "metadata": {},
   "outputs": [
    {
     "ename": "SyntaxError",
     "evalue": "unexpected EOF while parsing (<ipython-input-270-a52d62a3a13d>, line 6)",
     "output_type": "error",
     "traceback": [
      "\u001b[1;36m  File \u001b[1;32m\"<ipython-input-270-a52d62a3a13d>\"\u001b[1;36m, line \u001b[1;32m6\u001b[0m\n\u001b[1;33m    #school_score\u001b[0m\n\u001b[1;37m                 ^\u001b[0m\n\u001b[1;31mSyntaxError\u001b[0m\u001b[1;31m:\u001b[0m unexpected EOF while parsing\n"
     ]
    }
   ],
   "source": [
    "#Scores by School Spending\n",
    "\n",
    "school_score = score_score.pd.DataFrame[school_data_complete[\"math_score\" + \"reading_score\"].sum()\n",
    "                                        \n",
    "#new_length = row[ ].split(\" \")\n",
    "#to split a string and put data into. Get length of \n",
    "                                        \n",
    "#school_score"
   ]
  },
  {
   "cell_type": "code",
   "execution_count": 263,
   "metadata": {},
   "outputs": [
    {
     "ename": "SyntaxError",
     "evalue": "invalid syntax (<ipython-input-263-0293d4c57649>, line 22)",
     "output_type": "error",
     "traceback": [
      "\u001b[1;36m  File \u001b[1;32m\"<ipython-input-263-0293d4c57649>\"\u001b[1;36m, line \u001b[1;32m22\u001b[0m\n\u001b[1;33m    spending_bins = [0, 100, 500, 1000, 1500]\u001b[0m\n\u001b[1;37m                ^\u001b[0m\n\u001b[1;31mSyntaxError\u001b[0m\u001b[1;31m:\u001b[0m invalid syntax\n"
     ]
    }
   ],
   "source": [
    "#Create table school performance by average spending\n",
    "\n",
    "spending_bins = [0, 100, 500, 1000, 1500]\n",
    "names=[\"<$100\",\"$100 to $499\",\"$500 to $999\", \"$1000 to $1500\"]\n"
   ]
  },
  {
   "cell_type": "markdown",
   "metadata": {},
   "source": [
    "## Scores by School Size"
   ]
  },
  {
   "cell_type": "markdown",
   "metadata": {},
   "source": [
    "* Perform the same operations as above, based on school size."
   ]
  },
  {
   "cell_type": "code",
   "execution_count": null,
   "metadata": {},
   "outputs": [],
   "source": [
    "size_bins[0, 1000, 3000, 4000, 5000 ]\n",
    "names = [\"<1000\", \"1000 to 2999\", \"3000 to 3999\", \"4000 to 5000\"]"
   ]
  },
  {
   "cell_type": "markdown",
   "metadata": {},
   "source": [
    "## Scores by School Type"
   ]
  },
  {
   "cell_type": "markdown",
   "metadata": {},
   "source": [
    "* Perform the same operations as above, based on school type"
   ]
  },
  {
   "cell_type": "code",
   "execution_count": null,
   "metadata": {},
   "outputs": [],
   "source": [
    "type_bins[0, 30, 60, 90, 100]\n",
    "names = [\"0 to 29\", \"30 to 59\", \"60 to 89\", \"90 to 100\"]"
   ]
  },
  {
   "cell_type": "code",
   "execution_count": 233,
   "metadata": {},
   "outputs": [],
   "source": [
    "#Create Dataframe for all results \n",
    "\n",
    "school_summary = {\"School Count\": schoolCount,\n",
    "                    \"School Student Count\": studentCount,\n",
    "                    \"School Total Budget\": districtBudget,\n",
    "                    \"School Average Math Score\": average_math_score,\n",
    "                    \"School Reading Score Average\": average_reading_score,\n",
    "                    \"School % Passing Math Scores\": math_score,\n",
    "                    \"School % Reading Scores\": reading_score,\n",
    "                    \"School Overall Passing %'s\":percent_passing,\n",
    "                     }\n",
    "\n",
    "\n",
    "#school_metrics_list = school_metrics.list[[\"School Name\", \"School Type\", \"Total Students\", \"Total Budget\", \"Per Student Budget\",\n",
    "                                         # \"Average Math Score\", \"Average Reading Score\", \"% Overall Passing Score\"]]\n",
    "school_summary"
   ]
  },
  {
   "cell_type": "code",
   "execution_count": 215,
   "metadata": {},
   "outputs": [
    {
     "ename": "SyntaxError",
     "evalue": "invalid syntax (<ipython-input-215-30034bd52efc>, line 8)",
     "output_type": "error",
     "traceback": [
      "\u001b[1;36m  File \u001b[1;32m\"<ipython-input-215-30034bd52efc>\"\u001b[1;36m, line \u001b[1;32m8\u001b[0m\n\u001b[1;33m    school_metrics = {\"School Type\":school_types,\u001b[0m\n\u001b[1;37m                 ^\u001b[0m\n\u001b[1;31mSyntaxError\u001b[0m\u001b[1;31m:\u001b[0m invalid syntax\n"
     ]
    }
   ],
   "source": [
    "#creating OVERVIEW TABLE that summarizes key metrics about each school: School Name, School Type, Total Students,\n",
    "#Total Budget,Per Student Budget, Average Math Score, Average ReadingScore, % Passing Math, % Passing Reading, \n",
    "# % Overall Passing (both math and reading)\n",
    "\n",
    "school_metrics = school_metrics.pd.DataFrame[school_data_complete[(school_data_complete)]\n",
    "\n",
    "#creating school metrics series\n",
    "school_metrics = {\"School Type\":school_types,\n",
    "                  \"Total Students\":grouped_student_count,\n",
    "                  \"Total Budget\":grouped_school_budget,\n",
    "                  \"Per Student Budget\":grouped_budget_per_student,\n",
    "                  \"Average Math Score\":grouped_school_math_score,\n",
    "                  \"Average Reading Score\":grouped_school_reading_score,}\n",
    "                  \"% Passing Math\": grouped_school_percent__passing_math,}\n",
    "                  \"% Passing Reading\": grouped_school_percent_passing_reading,\n",
    "                  \"% Overall Passing\": grouped_school_percent_passing_overall}\n",
    "\n",
    "\n",
    "school_metrics_df.head()"
   ]
  }
 ],
 "metadata": {
  "anaconda-cloud": {},
  "kernel_info": {
   "name": "python3"
  },
  "kernelspec": {
   "display_name": "Python 3",
   "language": "python",
   "name": "python3"
  },
  "language_info": {
   "codemirror_mode": {
    "name": "ipython",
    "version": 3
   },
   "file_extension": ".py",
   "mimetype": "text/x-python",
   "name": "python",
   "nbconvert_exporter": "python",
   "pygments_lexer": "ipython3",
   "version": "3.6.10"
  },
  "latex_envs": {
   "LaTeX_envs_menu_present": true,
   "autoclose": false,
   "autocomplete": true,
   "bibliofile": "biblio.bib",
   "cite_by": "apalike",
   "current_citInitial": 1,
   "eqLabelWithNumbers": true,
   "eqNumInitial": 1,
   "hotkeys": {
    "equation": "Ctrl-E",
    "itemize": "Ctrl-I"
   },
   "labels_anchors": false,
   "latex_user_defs": false,
   "report_style_numbering": false,
   "user_envs_cfg": false
  },
  "nteract": {
   "version": "0.8.4"
  }
 },
 "nbformat": 4,
 "nbformat_minor": 1
}
